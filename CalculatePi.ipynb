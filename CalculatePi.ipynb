{
 "cells": [
  {
   "attachments": {},
   "cell_type": "markdown",
   "metadata": {},
   "source": [
    "Código que realiza o cálculo de Pi a partir do Método Monte Carlo (MMC)"
   ]
  },
  {
   "attachments": {},
   "cell_type": "markdown",
   "metadata": {},
   "source": [
    "A única biblioteca a ser utilizada é a \"random\""
   ]
  },
  {
   "cell_type": "code",
   "execution_count": null,
   "metadata": {},
   "outputs": [],
   "source": [
    "import random"
   ]
  },
  {
   "attachments": {},
   "cell_type": "markdown",
   "metadata": {},
   "source": [
    "É então realizada a criação da função:"
   ]
  },
  {
   "cell_type": "code",
   "execution_count": 1,
   "metadata": {},
   "outputs": [
    {
     "name": "stdout",
     "output_type": "stream",
     "text": [
      "3.1416504\n"
     ]
    }
   ],
   "source": [
    "#Cria função que realiza o cálculo de pi\n",
    "def funcao_CalculaPi(numPontos):\n",
    "    ContadorPontosCircunferencia = 0\n",
    "    for i in range(numPontos):\n",
    "        x = random.uniform(-1, 1)\n",
    "        y = random.uniform(-1, 1)\n",
    "        if  x**2 + y**2 <= 1:\n",
    "            ContadorPontosCircunferencia += 1\n",
    "    ValorPi = 4 * (ContadorPontosCircunferencia / numPontos)\n",
    "    return ValorPi"
   ]
  },
  {
   "attachments": {},
   "cell_type": "markdown",
   "metadata": {},
   "source": [
    "Por fim, a utilização da função:"
   ]
  },
  {
   "cell_type": "code",
   "execution_count": null,
   "metadata": {},
   "outputs": [],
   "source": [
    "\n",
    "#Utilização da função\n",
    "Numero_Pontos = 10000000 # <- alterar o número de pontos aleatórios aqui\n",
    "Valor_Pi = funcao_CalculaPi(Numero_Pontos)\n",
    "print(Valor_Pi)"
   ]
  }
 ],
 "metadata": {
  "kernelspec": {
   "display_name": "Python 3",
   "language": "python",
   "name": "python3"
  },
  "language_info": {
   "codemirror_mode": {
    "name": "ipython",
    "version": 3
   },
   "file_extension": ".py",
   "mimetype": "text/x-python",
   "name": "python",
   "nbconvert_exporter": "python",
   "pygments_lexer": "ipython3",
   "version": "3.10.9"
  },
  "orig_nbformat": 4
 },
 "nbformat": 4,
 "nbformat_minor": 2
}
